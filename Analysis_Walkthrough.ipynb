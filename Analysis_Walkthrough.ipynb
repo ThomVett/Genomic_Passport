{
 "cells": [
  {
   "cell_type": "markdown",
   "metadata": {},
   "source": [
    "# Analysis pipeline\n",
    "\n",
    "In this notebook, I will briefly describe the work that is done by the pipeline to perform the three following tasks.\n",
    "\n",
    "1. Impute HLA data for a patient\n",
    "2. Match the HLA data to drug recommendations\n",
    "3. Match the genomic data of a patient to a drug recommendation database\n",
    " \n",
    "We begin by importing the appropriate libraries that are needed for the analysis."
   ]
  },
  {
   "cell_type": "code",
   "execution_count": 2,
   "metadata": {
    "collapsed": true
   },
   "outputs": [],
   "source": [
    "import pandas as pd\n",
    "import vcf\n",
    "import numpy as np\n",
    "import datetime\n",
    "import os"
   ]
  },
  {
   "cell_type": "markdown",
   "metadata": {},
   "source": [
    "First we import the drug data bases into pandas DataFrame to simplify the analysis."
   ]
  },
  {
   "cell_type": "code",
   "execution_count": 3,
   "metadata": {
    "collapsed": false
   },
   "outputs": [],
   "source": [
    "pathDrug = 'Data/total_var_ann.csv'\n",
    "pathHLA = 'Data/HLA_var_ann.csv'\n",
    "\n",
    "drugVatiants = pd.read_csv(pathDrug)\n",
    "HLAVariants = pd.read_csv(pathHLA)"
   ]
  },
  {
   "cell_type": "markdown",
   "metadata": {},
   "source": [
    "The input data is the genotpe file of a patient. The first part is to call the HIBAG software to impute the HLA variants the the patient has.\n",
    "\n",
    "We first create a directory for the current date, where we will store the different results.\n",
    "\n",
    "This example analysis is done with the file of a patient named 10437. In the true pipeline, the input file is in vcf format, here it is already in bim, bed fam files.\n",
    "\n",
    "We begin by creating an appopriate folder to house the results."
   ]
  },
  {
   "cell_type": "code",
   "execution_count": 65,
   "metadata": {
    "collapsed": false
   },
   "outputs": [],
   "source": [
    "path = 'Results/'\n",
    "today = str(datetime.datetime.today().date())\n",
    "patientFolder = '/10437'\n",
    "patientName = '10437'\n",
    "path_today = path+today\n",
    "if not os.path.exists(path_today):\n",
    "    os.mkdir(path_today)\n",
    "\n",
    "#We also create a directory for the patient name\n",
    "\n",
    "if not os.path.exists(path_today+patientFolder):\n",
    "    os.mkdir(path_today+patientFolder)\n",
    "\n",
    "pathPatient = path_today+patientFolder\n",
    "patientFiles = pathPatient+'/'+patientName\n",
    "chrom6Patient = patientName+'_chr6'"
   ]
  },
  {
   "cell_type": "markdown",
   "metadata": {},
   "source": [
    "First, as we start with the whole genome, we extract the chromosome 6 data with plink, so that it's simpler for the analysis."
   ]
  },
  {
   "cell_type": "code",
   "execution_count": 69,
   "metadata": {
    "collapsed": false
   },
   "outputs": [
    {
     "data": {
      "text/plain": [
       "0"
      ]
     },
     "execution_count": 69,
     "metadata": {},
     "output_type": "execute_result"
    }
   ],
   "source": [
    "os.system('plink --bfile '+patientFiles+' --chr 6 --out '+patientFiles+'_chr6 --make-bed')"
   ]
  },
  {
   "cell_type": "markdown",
   "metadata": {
    "collapsed": true
   },
   "source": [
    "We then impute the HLA using the R script. At this step the file is saved in the current directory, and we have to move it into the right one (using mv bash command in the script)."
   ]
  },
  {
   "cell_type": "code",
   "execution_count": 70,
   "metadata": {
    "collapsed": false
   },
   "outputs": [
    {
     "data": {
      "text/plain": [
       "0"
      ]
     },
     "execution_count": 70,
     "metadata": {},
     "output_type": "execute_result"
    }
   ],
   "source": [
    "os.system('Rscript --vanilla HLA_from_patient.R '+patientChrom6+' '+pathPatient')"
   ]
  },
  {
   "cell_type": "markdown",
   "metadata": {},
   "source": [
    "Now we can import the result of the imputation."
   ]
  },
  {
   "cell_type": "code",
   "execution_count": 132,
   "metadata": {
    "collapsed": false
   },
   "outputs": [
    {
     "data": {
      "text/html": [
       "<div>\n",
       "<table border=\"1\" class=\"dataframe\">\n",
       "  <thead>\n",
       "    <tr style=\"text-align: right;\">\n",
       "      <th></th>\n",
       "      <th>Unnamed: 0</th>\n",
       "      <th>V1</th>\n",
       "      <th>V2</th>\n",
       "      <th>V3</th>\n",
       "      <th>V4</th>\n",
       "      <th>V5</th>\n",
       "      <th>V6</th>\n",
       "      <th>V7</th>\n",
       "    </tr>\n",
       "  </thead>\n",
       "  <tbody>\n",
       "    <tr>\n",
       "      <th>0</th>\n",
       "      <td>1</td>\n",
       "      <td>A</td>\n",
       "      <td>B</td>\n",
       "      <td>C</td>\n",
       "      <td>DRB1</td>\n",
       "      <td>DQA1</td>\n",
       "      <td>DQB1</td>\n",
       "      <td>DPB1</td>\n",
       "    </tr>\n",
       "    <tr>\n",
       "      <th>1</th>\n",
       "      <td>2</td>\n",
       "      <td>03:01</td>\n",
       "      <td>07:02</td>\n",
       "      <td>04:01</td>\n",
       "      <td>11:01</td>\n",
       "      <td>01:02</td>\n",
       "      <td>03:01</td>\n",
       "      <td>04:01</td>\n",
       "    </tr>\n",
       "    <tr>\n",
       "      <th>2</th>\n",
       "      <td>3</td>\n",
       "      <td>03:01</td>\n",
       "      <td>35:03</td>\n",
       "      <td>07:02</td>\n",
       "      <td>15:01</td>\n",
       "      <td>05:05</td>\n",
       "      <td>06:02</td>\n",
       "      <td>04:02</td>\n",
       "    </tr>\n",
       "    <tr>\n",
       "      <th>3</th>\n",
       "      <td>4</td>\n",
       "      <td>0.991384721162215</td>\n",
       "      <td>0.993161860716431</td>\n",
       "      <td>0.999999998657889</td>\n",
       "      <td>0.475808997708378</td>\n",
       "      <td>0.994285792001906</td>\n",
       "      <td>0.996138041707846</td>\n",
       "      <td>0.979807650474663</td>\n",
       "    </tr>\n",
       "  </tbody>\n",
       "</table>\n",
       "</div>"
      ],
      "text/plain": [
       "   Unnamed: 0                 V1                 V2                 V3  \\\n",
       "0           1                  A                  B                  C   \n",
       "1           2              03:01              07:02              04:01   \n",
       "2           3              03:01              35:03              07:02   \n",
       "3           4  0.991384721162215  0.993161860716431  0.999999998657889   \n",
       "\n",
       "                  V4                 V5                 V6                 V7  \n",
       "0               DRB1               DQA1               DQB1               DPB1  \n",
       "1              11:01              01:02              03:01              04:01  \n",
       "2              15:01              05:05              06:02              04:02  \n",
       "3  0.475808997708378  0.994285792001906  0.996138041707846  0.979807650474663  "
      ]
     },
     "execution_count": 132,
     "metadata": {},
     "output_type": "execute_result"
    }
   ],
   "source": [
    "HLAfile = pathPatient+'/'+chrom6Patient+'_results.csv'\n",
    "HLAdf = pd.read_csv(HLAfile)\n",
    "HLAdf"
   ]
  },
  {
   "cell_type": "markdown",
   "metadata": {},
   "source": [
    "Now we modify the file so that's it's more easily read."
   ]
  },
  {
   "cell_type": "code",
   "execution_count": 133,
   "metadata": {
    "collapsed": false
   },
   "outputs": [
    {
     "data": {
      "text/html": [
       "<div>\n",
       "<table border=\"1\" class=\"dataframe\">\n",
       "  <thead>\n",
       "    <tr style=\"text-align: right;\">\n",
       "      <th></th>\n",
       "      <th>A</th>\n",
       "      <th>B</th>\n",
       "      <th>C</th>\n",
       "      <th>DRB1</th>\n",
       "      <th>DQA1</th>\n",
       "      <th>DQB1</th>\n",
       "      <th>DPB1</th>\n",
       "    </tr>\n",
       "  </thead>\n",
       "  <tbody>\n",
       "    <tr>\n",
       "      <th>1</th>\n",
       "      <td>03:01</td>\n",
       "      <td>07:02</td>\n",
       "      <td>04:01</td>\n",
       "      <td>11:01</td>\n",
       "      <td>01:02</td>\n",
       "      <td>03:01</td>\n",
       "      <td>04:01</td>\n",
       "    </tr>\n",
       "    <tr>\n",
       "      <th>2</th>\n",
       "      <td>03:01</td>\n",
       "      <td>35:03</td>\n",
       "      <td>07:02</td>\n",
       "      <td>15:01</td>\n",
       "      <td>05:05</td>\n",
       "      <td>06:02</td>\n",
       "      <td>04:02</td>\n",
       "    </tr>\n",
       "    <tr>\n",
       "      <th>3</th>\n",
       "      <td>0.991384721162215</td>\n",
       "      <td>0.993161860716431</td>\n",
       "      <td>0.999999998657889</td>\n",
       "      <td>0.475808997708378</td>\n",
       "      <td>0.994285792001906</td>\n",
       "      <td>0.996138041707846</td>\n",
       "      <td>0.979807650474663</td>\n",
       "    </tr>\n",
       "  </tbody>\n",
       "</table>\n",
       "</div>"
      ],
      "text/plain": [
       "0                  A                  B                  C               DRB1  \\\n",
       "1              03:01              07:02              04:01              11:01   \n",
       "2              03:01              35:03              07:02              15:01   \n",
       "3  0.991384721162215  0.993161860716431  0.999999998657889  0.475808997708378   \n",
       "\n",
       "0               DQA1               DQB1               DPB1  \n",
       "1              01:02              03:01              04:01  \n",
       "2              05:05              06:02              04:02  \n",
       "3  0.994285792001906  0.996138041707846  0.979807650474663  "
      ]
     },
     "execution_count": 133,
     "metadata": {},
     "output_type": "execute_result"
    }
   ],
   "source": [
    "HLAdf.columns = HLAdf.loc[0]\n",
    "HLAdf.drop(0,inplace=True)\n",
    "HLAdf.drop(1,axis=1,inplace=True)\n",
    "HLAdf"
   ]
  },
  {
   "cell_type": "markdown",
   "metadata": {},
   "source": [
    "Now that we have the HLA data, we will remove the ones for which we do not have enough confidence.\n",
    "\n",
    "The thresh variable can be set as to remove imputations for locuses where the posterior probability is too low."
   ]
  },
  {
   "cell_type": "code",
   "execution_count": 134,
   "metadata": {
    "collapsed": false
   },
   "outputs": [
    {
     "data": {
      "text/html": [
       "<div>\n",
       "<table border=\"1\" class=\"dataframe\">\n",
       "  <thead>\n",
       "    <tr style=\"text-align: right;\">\n",
       "      <th></th>\n",
       "      <th>A</th>\n",
       "      <th>B</th>\n",
       "      <th>C</th>\n",
       "      <th>DQA1</th>\n",
       "      <th>DQB1</th>\n",
       "      <th>DPB1</th>\n",
       "    </tr>\n",
       "  </thead>\n",
       "  <tbody>\n",
       "    <tr>\n",
       "      <th>1</th>\n",
       "      <td>03:01</td>\n",
       "      <td>07:02</td>\n",
       "      <td>04:01</td>\n",
       "      <td>01:02</td>\n",
       "      <td>03:01</td>\n",
       "      <td>04:01</td>\n",
       "    </tr>\n",
       "    <tr>\n",
       "      <th>2</th>\n",
       "      <td>03:01</td>\n",
       "      <td>35:03</td>\n",
       "      <td>07:02</td>\n",
       "      <td>05:05</td>\n",
       "      <td>06:02</td>\n",
       "      <td>04:02</td>\n",
       "    </tr>\n",
       "    <tr>\n",
       "      <th>3</th>\n",
       "      <td>0.991384721162215</td>\n",
       "      <td>0.993161860716431</td>\n",
       "      <td>0.999999998657889</td>\n",
       "      <td>0.994285792001906</td>\n",
       "      <td>0.996138041707846</td>\n",
       "      <td>0.979807650474663</td>\n",
       "    </tr>\n",
       "  </tbody>\n",
       "</table>\n",
       "</div>"
      ],
      "text/plain": [
       "0                  A                  B                  C               DQA1  \\\n",
       "1              03:01              07:02              04:01              01:02   \n",
       "2              03:01              35:03              07:02              05:05   \n",
       "3  0.991384721162215  0.993161860716431  0.999999998657889  0.994285792001906   \n",
       "\n",
       "0               DQB1               DPB1  \n",
       "1              03:01              04:01  \n",
       "2              06:02              04:02  \n",
       "3  0.996138041707846  0.979807650474663  "
      ]
     },
     "execution_count": 134,
     "metadata": {},
     "output_type": "execute_result"
    }
   ],
   "source": [
    "thresh = 0.9\n",
    "HLAFinal = HLAdf.copy()\n",
    "for locus in HLAdf.columns:\n",
    "    if float(HLAFinal.loc[3,locus])<thresh:\n",
    "        HLAFinal.drop(locus,axis=1,inplace=True)\n",
    "    \n",
    "HLAFinal"
   ]
  },
  {
   "cell_type": "markdown",
   "metadata": {
    "collapsed": false
   },
   "source": [
    "Now we have to convert the HLA types to ones that are recognizable in other files."
   ]
  },
  {
   "cell_type": "code",
   "execution_count": 135,
   "metadata": {
    "collapsed": false
   },
   "outputs": [],
   "source": [
    "for locus in HLAFinal.columns:\n",
    "    allele1 = HLAFinal.loc[1,locus].split(':')\n",
    "    allele2 = HLAFinal.loc[2,locus].split(':')\n",
    "    \n",
    "    HLAFinal.loc[1,locus] = 'HLA_'+locus+'_'+allele1[0]+allele1[1]\n",
    "    HLAFinal.loc[2,locus] = 'HLA_'+locus+'_'+allele2[0]+allele2[1]"
   ]
  },
  {
   "cell_type": "code",
   "execution_count": 136,
   "metadata": {
    "collapsed": false
   },
   "outputs": [
    {
     "data": {
      "text/html": [
       "<div>\n",
       "<table border=\"1\" class=\"dataframe\">\n",
       "  <thead>\n",
       "    <tr style=\"text-align: right;\">\n",
       "      <th></th>\n",
       "      <th>A</th>\n",
       "      <th>B</th>\n",
       "      <th>C</th>\n",
       "      <th>DQA1</th>\n",
       "      <th>DQB1</th>\n",
       "      <th>DPB1</th>\n",
       "    </tr>\n",
       "  </thead>\n",
       "  <tbody>\n",
       "    <tr>\n",
       "      <th>1</th>\n",
       "      <td>HLA_A_0301</td>\n",
       "      <td>HLA_B_0702</td>\n",
       "      <td>HLA_C_0401</td>\n",
       "      <td>HLA_DQA1_0102</td>\n",
       "      <td>HLA_DQB1_0301</td>\n",
       "      <td>HLA_DPB1_0401</td>\n",
       "    </tr>\n",
       "    <tr>\n",
       "      <th>2</th>\n",
       "      <td>HLA_A_0301</td>\n",
       "      <td>HLA_B_3503</td>\n",
       "      <td>HLA_C_0702</td>\n",
       "      <td>HLA_DQA1_0505</td>\n",
       "      <td>HLA_DQB1_0602</td>\n",
       "      <td>HLA_DPB1_0402</td>\n",
       "    </tr>\n",
       "    <tr>\n",
       "      <th>3</th>\n",
       "      <td>0.991384721162215</td>\n",
       "      <td>0.993161860716431</td>\n",
       "      <td>0.999999998657889</td>\n",
       "      <td>0.994285792001906</td>\n",
       "      <td>0.996138041707846</td>\n",
       "      <td>0.979807650474663</td>\n",
       "    </tr>\n",
       "  </tbody>\n",
       "</table>\n",
       "</div>"
      ],
      "text/plain": [
       "0                  A                  B                  C               DQA1  \\\n",
       "1         HLA_A_0301         HLA_B_0702         HLA_C_0401      HLA_DQA1_0102   \n",
       "2         HLA_A_0301         HLA_B_3503         HLA_C_0702      HLA_DQA1_0505   \n",
       "3  0.991384721162215  0.993161860716431  0.999999998657889  0.994285792001906   \n",
       "\n",
       "0               DQB1               DPB1  \n",
       "1      HLA_DQB1_0301      HLA_DPB1_0401  \n",
       "2      HLA_DQB1_0602      HLA_DPB1_0402  \n",
       "3  0.996138041707846  0.979807650474663  "
      ]
     },
     "execution_count": 136,
     "metadata": {},
     "output_type": "execute_result"
    }
   ],
   "source": [
    "HLAFinal"
   ]
  },
  {
   "cell_type": "markdown",
   "metadata": {},
   "source": [
    "We then match the HLA of the patient with the HLA database."
   ]
  },
  {
   "cell_type": "code",
   "execution_count": 186,
   "metadata": {
    "collapsed": false
   },
   "outputs": [],
   "source": [
    "arr_HLA = HLAVariants['Variant']\n",
    "HLAFinal['A'].isin(['HLA_A_0303']).any()\n",
    "HLAPAtient = []\n",
    "for index in HLAVariants.index:\n",
    "    locus = HLAVariants.loc[index,'Variant']\n",
    "    if HLAFinal['A'].isin([locus]).any()==True:\n",
    "            HLAPAtient.append(HLAVariants[HLAVariants.index==index])"
   ]
  },
  {
   "cell_type": "code",
   "execution_count": 187,
   "metadata": {
    "collapsed": false
   },
   "outputs": [
    {
     "data": {
      "text/html": [
       "<div>\n",
       "<table border=\"1\" class=\"dataframe\">\n",
       "  <thead>\n",
       "    <tr style=\"text-align: right;\">\n",
       "      <th></th>\n",
       "      <th>Unnamed: 0</th>\n",
       "      <th>Variant</th>\n",
       "      <th>Chemical</th>\n",
       "      <th>Notes</th>\n",
       "      <th>Sentence</th>\n",
       "      <th>Alleles</th>\n",
       "    </tr>\n",
       "  </thead>\n",
       "  <tbody>\n",
       "    <tr>\n",
       "      <th>31</th>\n",
       "      <td>31</td>\n",
       "      <td>HLA_A_0301</td>\n",
       "      <td>phenytoin (PA450947)</td>\n",
       "      <td>Risk of increased risk of cutaneous adverse re...</td>\n",
       "      <td>HLA-A *03:01:01:01 is not associated with incr...</td>\n",
       "      <td>*03:01:01:01</td>\n",
       "    </tr>\n",
       "    <tr>\n",
       "      <th>32</th>\n",
       "      <td>32</td>\n",
       "      <td>HLA_A_0301</td>\n",
       "      <td>lamotrigine (PA450164)</td>\n",
       "      <td>Risk of increased risk of cutaneous adverse re...</td>\n",
       "      <td>HLA-A *03:01:01:01 is not associated with incr...</td>\n",
       "      <td>*03:01:01:01</td>\n",
       "    </tr>\n",
       "    <tr>\n",
       "      <th>266</th>\n",
       "      <td>266</td>\n",
       "      <td>HLA_A_0301</td>\n",
       "      <td>egfr inhibitors (PA153561371)</td>\n",
       "      <td>In multivariate logistic regression, HLA-A*03:...</td>\n",
       "      <td>HLA-A *03:01:01:01 is associated with decrease...</td>\n",
       "      <td>*03:01:01:01</td>\n",
       "    </tr>\n",
       "    <tr>\n",
       "      <th>268</th>\n",
       "      <td>268</td>\n",
       "      <td>HLA_A_0301</td>\n",
       "      <td>egfr inhibitors (PA153561371)</td>\n",
       "      <td>The HLA-A*03:01 allele was not associated with...</td>\n",
       "      <td>HLA-A *03:01:01:01 is not associated with over...</td>\n",
       "      <td>*03:01:01:01</td>\n",
       "    </tr>\n",
       "  </tbody>\n",
       "</table>\n",
       "</div>"
      ],
      "text/plain": [
       "     Unnamed: 0     Variant                       Chemical  \\\n",
       "31           31  HLA_A_0301           phenytoin (PA450947)   \n",
       "32           32  HLA_A_0301         lamotrigine (PA450164)   \n",
       "266         266  HLA_A_0301  egfr inhibitors (PA153561371)   \n",
       "268         268  HLA_A_0301  egfr inhibitors (PA153561371)   \n",
       "\n",
       "                                                 Notes  \\\n",
       "31   Risk of increased risk of cutaneous adverse re...   \n",
       "32   Risk of increased risk of cutaneous adverse re...   \n",
       "266  In multivariate logistic regression, HLA-A*03:...   \n",
       "268  The HLA-A*03:01 allele was not associated with...   \n",
       "\n",
       "                                              Sentence       Alleles  \n",
       "31   HLA-A *03:01:01:01 is not associated with incr...  *03:01:01:01  \n",
       "32   HLA-A *03:01:01:01 is not associated with incr...  *03:01:01:01  \n",
       "266  HLA-A *03:01:01:01 is associated with decrease...  *03:01:01:01  \n",
       "268  HLA-A *03:01:01:01 is not associated with over...  *03:01:01:01  "
      ]
     },
     "execution_count": 187,
     "metadata": {},
     "output_type": "execute_result"
    }
   ],
   "source": [
    "PatientHLA = pd.concat(HLAPAtient)\n",
    "PatientHLA"
   ]
  },
  {
   "cell_type": "markdown",
   "metadata": {},
   "source": [
    "Now that we have a DataFrame where we have all the variants for a patient, we can write it in a csv file in the patient folder."
   ]
  },
  {
   "cell_type": "code",
   "execution_count": 168,
   "metadata": {
    "collapsed": false
   },
   "outputs": [],
   "source": [
    "PatientHLA.to_csv(pathPatient+'/Results_HLA.csv')"
   ]
  },
  {
   "cell_type": "markdown",
   "metadata": {},
   "source": [
    "Now that we have a file containing the results for a patient we can work on the general drug variants.\n",
    "\n",
    "# Drug variants\n",
    "\n",
    "This part is not yet implemented in the automatized pipeline as the drug \n",
    "database is too vast.\n",
    "\n",
    "First we extract the SNP's that correspond to the drug database to make the comparison go faster.\n",
    "\n",
    "The file drugSNP.txt corresponds to all variants that are present in the\n",
    "recommendations drug database."
   ]
  },
  {
   "cell_type": "code",
   "execution_count": 171,
   "metadata": {
    "collapsed": false
   },
   "outputs": [
    {
     "data": {
      "text/plain": [
       "0"
      ]
     },
     "execution_count": 171,
     "metadata": {},
     "output_type": "execute_result"
    }
   ],
   "source": [
    "SNPlist = 'drugSNP.txt'\n",
    "outFile = pathPatient+'/drugSNPList'\n",
    "os.system('plink --bfile '+patientFiles+' --extract '+SNPlist+' --out '+outFile+' --make-bed')"
   ]
  },
  {
   "cell_type": "markdown",
   "metadata": {},
   "source": [
    "Then we transform the shorter list to VCF."
   ]
  },
  {
   "cell_type": "code",
   "execution_count": 172,
   "metadata": {
    "collapsed": false
   },
   "outputs": [
    {
     "data": {
      "text/plain": [
       "0"
      ]
     },
     "execution_count": 172,
     "metadata": {},
     "output_type": "execute_result"
    }
   ],
   "source": [
    "os.system('plink --bfile '+outFile+' --recode vcf-iid --out '+outFile)"
   ]
  },
  {
   "cell_type": "code",
   "execution_count": 176,
   "metadata": {
    "collapsed": false
   },
   "outputs": [],
   "source": [
    "pathGenopatient = outFile+'.vcf'\n",
    "\n",
    "vcfPatientWhole = vcf.Reader(open(pathGenopatient,'r'))\n",
    "\n",
    "call = vcfPatientWhole.samples[0]\n",
    "\n",
    "drugVariant = drugVatiants['Variant']\n",
    "\n",
    "patientMatch = np.array([['Variant','Genotype']])\n",
    "\n",
    "for row in vcfPatientWhole:\n",
    "    if np.any(drugVariant == row.ID):\n",
    "        indexMatch = np.array([[row.ID,row.genotype(call).gt_bases]])\n",
    "        patientMatch = np.append(patientMatch,indexMatch,axis=0)\n"
   ]
  },
  {
   "cell_type": "code",
   "execution_count": 177,
   "metadata": {
    "collapsed": false
   },
   "outputs": [
    {
     "data": {
      "text/plain": [
       "8271"
      ]
     },
     "execution_count": 177,
     "metadata": {},
     "output_type": "execute_result"
    }
   ],
   "source": [
    "patientMatch = pd.DataFrame(patientMatch)\n",
    "patientMatch.columns = patientMatch.loc[0]\n",
    "patientMatch.drop(0,inplace=True)\n",
    "\n",
    "patientResult = pd.merge(patientMatch,drugVatiants,on='Variant')\n",
    "len(patientResult)"
   ]
  },
  {
   "cell_type": "markdown",
   "metadata": {},
   "source": [
    "To finish we have to make sure that we only show the lines where the genotype corresponds"
   ]
  },
  {
   "cell_type": "code",
   "execution_count": 178,
   "metadata": {
    "collapsed": false
   },
   "outputs": [],
   "source": [
    "for i in patientResult.index:\n",
    "    variant = patientResult['Genotype'].loc[i]\n",
    "    genotype = patientResult['Alleles'].loc[i]\n",
    "    variant = ''.join(variant.split('/'))\n",
    "    if variant == genotype:\n",
    "        continue\n",
    "    \n",
    "    elif variant[0] == genotype:\n",
    "        continue\n",
    "    \n",
    "    elif variant[1] == genotype:\n",
    "        continue\n",
    "    \n",
    "    else:\n",
    "        patientResult.drop(i,inplace=True)"
   ]
  },
  {
   "cell_type": "markdown",
   "metadata": {
    "collapsed": false
   },
   "source": [
    "And we finish by printing the file in a csv."
   ]
  },
  {
   "cell_type": "code",
   "execution_count": 181,
   "metadata": {
    "collapsed": true
   },
   "outputs": [],
   "source": [
    "patientResult.to_csv(pathPatient+'/Results_Drugs.csv')"
   ]
  }
 ],
 "metadata": {
  "anaconda-cloud": {},
  "kernelspec": {
   "display_name": "Python [default]",
   "language": "python",
   "name": "python3"
  },
  "language_info": {
   "codemirror_mode": {
    "name": "ipython",
    "version": 3
   },
   "file_extension": ".py",
   "mimetype": "text/x-python",
   "name": "python",
   "nbconvert_exporter": "python",
   "pygments_lexer": "ipython3",
   "version": "3.5.2"
  }
 },
 "nbformat": 4,
 "nbformat_minor": 1
}
